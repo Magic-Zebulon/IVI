{
 "cells": [
  {
   "cell_type": "code",
   "execution_count": 2,
   "id": "initial_id",
   "metadata": {
    "collapsed": true,
    "ExecuteTime": {
     "end_time": "2023-12-09T15:04:22.735702Z",
     "start_time": "2023-12-09T15:04:14.690813Z"
    }
   },
   "outputs": [],
   "source": [
    "import json\n",
    "import os\n",
    "import string\n",
    "from html import unescape\n",
    "\n",
    "from bertopic import BERTopic\n",
    "import pandas as pd\n",
    "import lxml.html\n",
    "from sentence_transformers.models.tokenizer import ENGLISH_STOP_WORDS\n",
    "from umap import UMAP\n",
    "from hdbscan import HDBSCAN\n",
    "import plotly as plt\n",
    "import plotly.express as px"
   ]
  },
  {
   "cell_type": "code",
   "execution_count": 3,
   "outputs": [],
   "source": [
    "def preprocess_text(text):\n",
    "\n",
    "    # Remove punctuation\n",
    "    text = ''.join([char for char in text if char not in string.punctuation])\n",
    "    # Remove stopwords\n",
    "    text = ' '.join([word for word in text.split() if word.lower() not in ENGLISH_STOP_WORDS])\n",
    "    \n",
    "    # Remove numbers\n",
    "    text = ''.join([char for char in text if not char.isdigit()])\n",
    "    return str(text)"
   ],
   "metadata": {
    "collapsed": false,
    "ExecuteTime": {
     "end_time": "2023-12-09T15:04:22.737713Z",
     "start_time": "2023-12-09T15:04:22.735105Z"
    }
   },
   "id": "b0a962d40a5601bc"
  },
  {
   "cell_type": "code",
   "execution_count": 4,
   "outputs": [],
   "source": [
    "def json_extract(file):\n",
    "    with open(file) as json_file:\n",
    "        data = json.load(json_file)\n",
    "        text =''\n",
    "        for p in data['class']:\n",
    "            text =text + p+' '\n",
    "        data_final = {'url': file , 'text': text}\n",
    "        return data_final"
   ],
   "metadata": {
    "collapsed": false,
    "ExecuteTime": {
     "end_time": "2023-12-09T15:04:22.748520Z",
     "start_time": "2023-12-09T15:04:22.739030Z"
    }
   },
   "id": "c1a1e0b91f50a3bb"
  },
  {
   "cell_type": "code",
   "execution_count": 5,
   "outputs": [],
   "source": [
    "def from_list_to_df(liste_path):\n",
    "    df = pd.DataFrame()\n",
    "    n = 0\n",
    "    for json in liste_path:  # parcours de la liste des chemins vers les fichiers json\n",
    "        liste_url_content = json_extract(json)\n",
    "        n+=1\n",
    "        row = {\n",
    "            'id': n,\n",
    "            'source_file': liste_url_content['url'],  # collecte du nom du site \n",
    "            'text': liste_url_content['text'],  # contenu de la classe class du dictionnaire json\n",
    "        }\n",
    "        # Ajout des résultats au dataframe\n",
    "        df = pd.concat([df, pd.DataFrame([row])], ignore_index=True)\n",
    "    return df\n",
    "    "
   ],
   "metadata": {
    "collapsed": false,
    "ExecuteTime": {
     "end_time": "2023-12-09T15:04:22.749385Z",
     "start_time": "2023-12-09T15:04:22.743483Z"
    }
   },
   "id": "27164f52f6d2afb9"
  },
  {
   "cell_type": "code",
   "execution_count": 6,
   "outputs": [
    {
     "data": {
      "text/plain": "   id                                        source_file  \\\n0   1  ../../html_extraction/dictionnaire/attribute_d...   \n1   2  ../../html_extraction/dictionnaire/attribute_d...   \n2   3  ../../html_extraction/dictionnaire/attribute_d...   \n3   4  ../../html_extraction/dictionnaire/attribute_d...   \n4   5  ../../html_extraction/dictionnaire/attribute_d...   \n5   6  ../../html_extraction/dictionnaire/attribute_d...   \n6   7  ../../html_extraction/dictionnaire/attribute_d...   \n7   8  ../../html_extraction/dictionnaire/attribute_d...   \n8   9  ../../html_extraction/dictionnaire/attribute_d...   \n9  10  ../../html_extraction/dictionnaire/attribute_d...   \n\n                                                text  \n0                                            center   \n1  home archive post-type-archive post-type-archi...  \n2  js yes-js js_active home page-template page-te...  \n3  js-site-favicon logged-in env-production page-...  \n4  js-site-favicon logged-in env-production page-...  \n5  js-focus-visible yoast-schema-graph page-templ...  \n6   js flexbox canvas canvastext webgl no-touch g...  \n7  ppws_modal ppws_modal_overlay ppws_modal_box p...  \n8  product-template-default single single-product...  \n9  js-site-favicon logged-in env-production page-...  ",
      "text/html": "<div>\n<style scoped>\n    .dataframe tbody tr th:only-of-type {\n        vertical-align: middle;\n    }\n\n    .dataframe tbody tr th {\n        vertical-align: top;\n    }\n\n    .dataframe thead th {\n        text-align: right;\n    }\n</style>\n<table border=\"1\" class=\"dataframe\">\n  <thead>\n    <tr style=\"text-align: right;\">\n      <th></th>\n      <th>id</th>\n      <th>source_file</th>\n      <th>text</th>\n    </tr>\n  </thead>\n  <tbody>\n    <tr>\n      <th>0</th>\n      <td>1</td>\n      <td>../../html_extraction/dictionnaire/attribute_d...</td>\n      <td>center</td>\n    </tr>\n    <tr>\n      <th>1</th>\n      <td>2</td>\n      <td>../../html_extraction/dictionnaire/attribute_d...</td>\n      <td>home archive post-type-archive post-type-archi...</td>\n    </tr>\n    <tr>\n      <th>2</th>\n      <td>3</td>\n      <td>../../html_extraction/dictionnaire/attribute_d...</td>\n      <td>js yes-js js_active home page-template page-te...</td>\n    </tr>\n    <tr>\n      <th>3</th>\n      <td>4</td>\n      <td>../../html_extraction/dictionnaire/attribute_d...</td>\n      <td>js-site-favicon logged-in env-production page-...</td>\n    </tr>\n    <tr>\n      <th>4</th>\n      <td>5</td>\n      <td>../../html_extraction/dictionnaire/attribute_d...</td>\n      <td>js-site-favicon logged-in env-production page-...</td>\n    </tr>\n    <tr>\n      <th>5</th>\n      <td>6</td>\n      <td>../../html_extraction/dictionnaire/attribute_d...</td>\n      <td>js-focus-visible yoast-schema-graph page-templ...</td>\n    </tr>\n    <tr>\n      <th>6</th>\n      <td>7</td>\n      <td>../../html_extraction/dictionnaire/attribute_d...</td>\n      <td>js flexbox canvas canvastext webgl no-touch g...</td>\n    </tr>\n    <tr>\n      <th>7</th>\n      <td>8</td>\n      <td>../../html_extraction/dictionnaire/attribute_d...</td>\n      <td>ppws_modal ppws_modal_overlay ppws_modal_box p...</td>\n    </tr>\n    <tr>\n      <th>8</th>\n      <td>9</td>\n      <td>../../html_extraction/dictionnaire/attribute_d...</td>\n      <td>product-template-default single single-product...</td>\n    </tr>\n    <tr>\n      <th>9</th>\n      <td>10</td>\n      <td>../../html_extraction/dictionnaire/attribute_d...</td>\n      <td>js-site-favicon logged-in env-production page-...</td>\n    </tr>\n  </tbody>\n</table>\n</div>"
     },
     "execution_count": 6,
     "metadata": {},
     "output_type": "execute_result"
    }
   ],
   "source": [
    "liste_path = [] # liste des chemins vers les fichiers json\n",
    "path_directory = '../../html_extraction/dictionnaire'\n",
    "for filename in os.listdir(path_directory): # parcours du dossier\n",
    "        if filename != '.DS_Store':\n",
    "            liste_path.append(path_directory + '/' + filename)\n",
    "df = from_list_to_df(liste_path)\n",
    "df"
   ],
   "metadata": {
    "collapsed": false,
    "ExecuteTime": {
     "end_time": "2023-12-09T15:04:22.786815Z",
     "start_time": "2023-12-09T15:04:22.750233Z"
    }
   },
   "id": "ea8e03e1e7ce62e8"
  },
  {
   "cell_type": "code",
   "execution_count": 7,
   "outputs": [],
   "source": [
    "# Step 1 - Get embeddings\n",
    "docs = df['text'].tolist()\n",
    "id = df['id'].astype(str).tolist()\n",
    "\n",
    "# Step 2 - Reduce dimensionality\n",
    "umap_model = UMAP(n_neighbors=10, n_components=2, min_dist=0.0, metric='cosine')\n",
    "# Step 3 - Cluster reduced embeddings\n",
    "hdbscan_model = HDBSCAN(min_cluster_size=4, metric='euclidean', cluster_selection_method='eom', prediction_data=True)\n",
    "# Step 4 - Create topic model\n",
    "topic_model = BERTopic(\n",
    "  umap_model=umap_model,                    # Step 2 - Reduce dimensionality\n",
    "  hdbscan_model=hdbscan_model,              # Step 3 - Cluster reduced embeddings\n",
    ")\n",
    "topics, probs = topic_model.fit_transform(docs)"
   ],
   "metadata": {
    "collapsed": false,
    "ExecuteTime": {
     "end_time": "2023-12-09T15:04:29.609683Z",
     "start_time": "2023-12-09T15:04:22.782392Z"
    }
   },
   "id": "c3eecf453916139b"
  },
  {
   "cell_type": "code",
   "execution_count": 8,
   "outputs": [
    {
     "data": {
      "text/plain": "                                            Document  Topic  \\\n0                                            center      -1   \n1  home archive post-type-archive post-type-archi...     -1   \n2  js yes-js js_active home page-template page-te...     -1   \n3  js-site-favicon logged-in env-production page-...     -1   \n4  js-site-favicon logged-in env-production page-...     -1   \n5  js-focus-visible yoast-schema-graph page-templ...     -1   \n6   js flexbox canvas canvastext webgl no-touch g...     -1   \n7  ppws_modal ppws_modal_overlay ppws_modal_box p...     -1   \n8  product-template-default single single-product...     -1   \n9  js-site-favicon logged-in env-production page-...     -1   \n\n                                           Name  \\\n0  -1_button_formcontrol_container_menuitemhome   \n1  -1_button_formcontrol_container_menuitemhome   \n2  -1_button_formcontrol_container_menuitemhome   \n3  -1_button_formcontrol_container_menuitemhome   \n4  -1_button_formcontrol_container_menuitemhome   \n5  -1_button_formcontrol_container_menuitemhome   \n6  -1_button_formcontrol_container_menuitemhome   \n7  -1_button_formcontrol_container_menuitemhome   \n8  -1_button_formcontrol_container_menuitemhome   \n9  -1_button_formcontrol_container_menuitemhome   \n\n                                      Representation  \\\n0  [button, formcontrol, container, menuitemhome,...   \n1  [button, formcontrol, container, menuitemhome,...   \n2  [button, formcontrol, container, menuitemhome,...   \n3  [button, formcontrol, container, menuitemhome,...   \n4  [button, formcontrol, container, menuitemhome,...   \n5  [button, formcontrol, container, menuitemhome,...   \n6  [button, formcontrol, container, menuitemhome,...   \n7  [button, formcontrol, container, menuitemhome,...   \n8  [button, formcontrol, container, menuitemhome,...   \n9  [button, formcontrol, container, menuitemhome,...   \n\n                                 Representative_Docs  \\\n0  [js-site-favicon logged-in env-production page...   \n1  [js-site-favicon logged-in env-production page...   \n2  [js-site-favicon logged-in env-production page...   \n3  [js-site-favicon logged-in env-production page...   \n4  [js-site-favicon logged-in env-production page...   \n5  [js-site-favicon logged-in env-production page...   \n6  [js-site-favicon logged-in env-production page...   \n7  [js-site-favicon logged-in env-production page...   \n8  [js-site-favicon logged-in env-production page...   \n9  [js-site-favicon logged-in env-production page...   \n\n                                         Top_n_words  Probability  \\\n0  button - formcontrol - container - menuitemhom...          0.0   \n1  button - formcontrol - container - menuitemhom...          0.0   \n2  button - formcontrol - container - menuitemhom...          0.0   \n3  button - formcontrol - container - menuitemhom...          0.0   \n4  button - formcontrol - container - menuitemhom...          0.0   \n5  button - formcontrol - container - menuitemhom...          0.0   \n6  button - formcontrol - container - menuitemhom...          0.0   \n7  button - formcontrol - container - menuitemhom...          0.0   \n8  button - formcontrol - container - menuitemhom...          0.0   \n9  button - formcontrol - container - menuitemhom...          0.0   \n\n   Representative_document  \n0                    False  \n1                    False  \n2                    False  \n3                     True  \n4                     True  \n5                    False  \n6                    False  \n7                    False  \n8                    False  \n9                     True  ",
      "text/html": "<div>\n<style scoped>\n    .dataframe tbody tr th:only-of-type {\n        vertical-align: middle;\n    }\n\n    .dataframe tbody tr th {\n        vertical-align: top;\n    }\n\n    .dataframe thead th {\n        text-align: right;\n    }\n</style>\n<table border=\"1\" class=\"dataframe\">\n  <thead>\n    <tr style=\"text-align: right;\">\n      <th></th>\n      <th>Document</th>\n      <th>Topic</th>\n      <th>Name</th>\n      <th>Representation</th>\n      <th>Representative_Docs</th>\n      <th>Top_n_words</th>\n      <th>Probability</th>\n      <th>Representative_document</th>\n    </tr>\n  </thead>\n  <tbody>\n    <tr>\n      <th>0</th>\n      <td>center</td>\n      <td>-1</td>\n      <td>-1_button_formcontrol_container_menuitemhome</td>\n      <td>[button, formcontrol, container, menuitemhome,...</td>\n      <td>[js-site-favicon logged-in env-production page...</td>\n      <td>button - formcontrol - container - menuitemhom...</td>\n      <td>0.0</td>\n      <td>False</td>\n    </tr>\n    <tr>\n      <th>1</th>\n      <td>home archive post-type-archive post-type-archi...</td>\n      <td>-1</td>\n      <td>-1_button_formcontrol_container_menuitemhome</td>\n      <td>[button, formcontrol, container, menuitemhome,...</td>\n      <td>[js-site-favicon logged-in env-production page...</td>\n      <td>button - formcontrol - container - menuitemhom...</td>\n      <td>0.0</td>\n      <td>False</td>\n    </tr>\n    <tr>\n      <th>2</th>\n      <td>js yes-js js_active home page-template page-te...</td>\n      <td>-1</td>\n      <td>-1_button_formcontrol_container_menuitemhome</td>\n      <td>[button, formcontrol, container, menuitemhome,...</td>\n      <td>[js-site-favicon logged-in env-production page...</td>\n      <td>button - formcontrol - container - menuitemhom...</td>\n      <td>0.0</td>\n      <td>False</td>\n    </tr>\n    <tr>\n      <th>3</th>\n      <td>js-site-favicon logged-in env-production page-...</td>\n      <td>-1</td>\n      <td>-1_button_formcontrol_container_menuitemhome</td>\n      <td>[button, formcontrol, container, menuitemhome,...</td>\n      <td>[js-site-favicon logged-in env-production page...</td>\n      <td>button - formcontrol - container - menuitemhom...</td>\n      <td>0.0</td>\n      <td>True</td>\n    </tr>\n    <tr>\n      <th>4</th>\n      <td>js-site-favicon logged-in env-production page-...</td>\n      <td>-1</td>\n      <td>-1_button_formcontrol_container_menuitemhome</td>\n      <td>[button, formcontrol, container, menuitemhome,...</td>\n      <td>[js-site-favicon logged-in env-production page...</td>\n      <td>button - formcontrol - container - menuitemhom...</td>\n      <td>0.0</td>\n      <td>True</td>\n    </tr>\n    <tr>\n      <th>5</th>\n      <td>js-focus-visible yoast-schema-graph page-templ...</td>\n      <td>-1</td>\n      <td>-1_button_formcontrol_container_menuitemhome</td>\n      <td>[button, formcontrol, container, menuitemhome,...</td>\n      <td>[js-site-favicon logged-in env-production page...</td>\n      <td>button - formcontrol - container - menuitemhom...</td>\n      <td>0.0</td>\n      <td>False</td>\n    </tr>\n    <tr>\n      <th>6</th>\n      <td>js flexbox canvas canvastext webgl no-touch g...</td>\n      <td>-1</td>\n      <td>-1_button_formcontrol_container_menuitemhome</td>\n      <td>[button, formcontrol, container, menuitemhome,...</td>\n      <td>[js-site-favicon logged-in env-production page...</td>\n      <td>button - formcontrol - container - menuitemhom...</td>\n      <td>0.0</td>\n      <td>False</td>\n    </tr>\n    <tr>\n      <th>7</th>\n      <td>ppws_modal ppws_modal_overlay ppws_modal_box p...</td>\n      <td>-1</td>\n      <td>-1_button_formcontrol_container_menuitemhome</td>\n      <td>[button, formcontrol, container, menuitemhome,...</td>\n      <td>[js-site-favicon logged-in env-production page...</td>\n      <td>button - formcontrol - container - menuitemhom...</td>\n      <td>0.0</td>\n      <td>False</td>\n    </tr>\n    <tr>\n      <th>8</th>\n      <td>product-template-default single single-product...</td>\n      <td>-1</td>\n      <td>-1_button_formcontrol_container_menuitemhome</td>\n      <td>[button, formcontrol, container, menuitemhome,...</td>\n      <td>[js-site-favicon logged-in env-production page...</td>\n      <td>button - formcontrol - container - menuitemhom...</td>\n      <td>0.0</td>\n      <td>False</td>\n    </tr>\n    <tr>\n      <th>9</th>\n      <td>js-site-favicon logged-in env-production page-...</td>\n      <td>-1</td>\n      <td>-1_button_formcontrol_container_menuitemhome</td>\n      <td>[button, formcontrol, container, menuitemhome,...</td>\n      <td>[js-site-favicon logged-in env-production page...</td>\n      <td>button - formcontrol - container - menuitemhom...</td>\n      <td>0.0</td>\n      <td>True</td>\n    </tr>\n  </tbody>\n</table>\n</div>"
     },
     "execution_count": 8,
     "metadata": {},
     "output_type": "execute_result"
    }
   ],
   "source": [
    "topic_model.get_document_info(docs)"
   ],
   "metadata": {
    "collapsed": false,
    "ExecuteTime": {
     "end_time": "2023-12-09T15:04:29.627513Z",
     "start_time": "2023-12-09T15:04:29.622722Z"
    }
   },
   "id": "367aee61068e79fb"
  },
  {
   "cell_type": "code",
   "execution_count": 9,
   "outputs": [
    {
     "data": {
      "text/plain": "   id         x         y\n0   4  3.750287  6.772539\n1   7  4.746617  7.116956\n2   3  3.148042  7.313091\n3  10  5.333640  7.872265\n4   1  3.164693  6.360981\n5   9  5.609956  7.312529\n6   6  4.450284  7.857515\n7   5  3.978364  7.552486\n8   8  5.189946  6.635677\n9   2  2.807961  6.794755",
      "text/html": "<div>\n<style scoped>\n    .dataframe tbody tr th:only-of-type {\n        vertical-align: middle;\n    }\n\n    .dataframe tbody tr th {\n        vertical-align: top;\n    }\n\n    .dataframe thead th {\n        text-align: right;\n    }\n</style>\n<table border=\"1\" class=\"dataframe\">\n  <thead>\n    <tr style=\"text-align: right;\">\n      <th></th>\n      <th>id</th>\n      <th>x</th>\n      <th>y</th>\n    </tr>\n  </thead>\n  <tbody>\n    <tr>\n      <th>0</th>\n      <td>4</td>\n      <td>3.750287</td>\n      <td>6.772539</td>\n    </tr>\n    <tr>\n      <th>1</th>\n      <td>7</td>\n      <td>4.746617</td>\n      <td>7.116956</td>\n    </tr>\n    <tr>\n      <th>2</th>\n      <td>3</td>\n      <td>3.148042</td>\n      <td>7.313091</td>\n    </tr>\n    <tr>\n      <th>3</th>\n      <td>10</td>\n      <td>5.333640</td>\n      <td>7.872265</td>\n    </tr>\n    <tr>\n      <th>4</th>\n      <td>1</td>\n      <td>3.164693</td>\n      <td>6.360981</td>\n    </tr>\n    <tr>\n      <th>5</th>\n      <td>9</td>\n      <td>5.609956</td>\n      <td>7.312529</td>\n    </tr>\n    <tr>\n      <th>6</th>\n      <td>6</td>\n      <td>4.450284</td>\n      <td>7.857515</td>\n    </tr>\n    <tr>\n      <th>7</th>\n      <td>5</td>\n      <td>3.978364</td>\n      <td>7.552486</td>\n    </tr>\n    <tr>\n      <th>8</th>\n      <td>8</td>\n      <td>5.189946</td>\n      <td>6.635677</td>\n    </tr>\n    <tr>\n      <th>9</th>\n      <td>2</td>\n      <td>2.807961</td>\n      <td>6.794755</td>\n    </tr>\n  </tbody>\n</table>\n</div>"
     },
     "execution_count": 9,
     "metadata": {},
     "output_type": "execute_result"
    }
   ],
   "source": [
    "results = topic_model.visualize_documents(id) # dataframe with the id and the coordinates\n",
    "results.drop(results[results['id'].isnull()].index, inplace = True)\n",
    "results"
   ],
   "metadata": {
    "collapsed": false,
    "ExecuteTime": {
     "end_time": "2023-12-09T15:04:31.529599Z",
     "start_time": "2023-12-09T15:04:29.628530Z"
    }
   },
   "id": "dc1e6c4378867e57"
  },
  {
   "cell_type": "code",
   "execution_count": 17,
   "outputs": [
    {
     "data": {
      "application/vnd.plotly.v1+json": {
       "data": [
        {
         "customdata": [
          [
           "4"
          ]
         ],
         "hovertemplate": "color=4<br>x=%{x}<br>y=%{y}<br>id=%{customdata[0]}<extra></extra>",
         "legendgroup": "4",
         "marker": {
          "color": "rgb(228,26,28)",
          "symbol": "circle"
         },
         "mode": "markers",
         "name": "attribute_dict_6_Darkweb.json",
         "orientation": "v",
         "showlegend": true,
         "x": [
          3.7502870559692383
         ],
         "xaxis": "x",
         "y": [
          6.772539138793945
         ],
         "yaxis": "y",
         "type": "scatter"
        },
        {
         "customdata": [
          [
           "7"
          ]
         ],
         "hovertemplate": "color=7<br>x=%{x}<br>y=%{y}<br>id=%{customdata[0]}<extra></extra>",
         "legendgroup": "7",
         "marker": {
          "color": "rgb(55,126,184)",
          "symbol": "circle"
         },
         "mode": "markers",
         "name": "attribute_dict_1_Darkweb.json",
         "orientation": "v",
         "showlegend": true,
         "x": [
          4.746616840362549
         ],
         "xaxis": "x",
         "y": [
          7.116955757141113
         ],
         "yaxis": "y",
         "type": "scatter"
        },
        {
         "customdata": [
          [
           "3"
          ]
         ],
         "hovertemplate": "color=3<br>x=%{x}<br>y=%{y}<br>id=%{customdata[0]}<extra></extra>",
         "legendgroup": "3",
         "marker": {
          "color": "rgb(77,175,74)",
          "symbol": "circle"
         },
         "mode": "markers",
         "name": "attribute_dict_Organ_city.json",
         "orientation": "v",
         "showlegend": true,
         "x": [
          3.1480419635772705
         ],
         "xaxis": "x",
         "y": [
          7.313090801239014
         ],
         "yaxis": "y",
         "type": "scatter"
        },
        {
         "customdata": [
          [
           "10"
          ]
         ],
         "hovertemplate": "color=10<br>x=%{x}<br>y=%{y}<br>id=%{customdata[0]}<extra></extra>",
         "legendgroup": "10",
         "marker": {
          "color": "rgb(152,78,163)",
          "symbol": "circle"
         },
         "mode": "markers",
         "name": "attribute_dict_groodcity.json",
         "orientation": "v",
         "showlegend": true,
         "x": [
          5.333640098571777
         ],
         "xaxis": "x",
         "y": [
          7.872265338897705
         ],
         "yaxis": "y",
         "type": "scatter"
        },
        {
         "customdata": [
          [
           "1"
          ]
         ],
         "hovertemplate": "color=1<br>x=%{x}<br>y=%{y}<br>id=%{customdata[0]}<extra></extra>",
         "legendgroup": "1",
         "marker": {
          "color": "rgb(255,127,0)",
          "symbol": "circle"
         },
         "mode": "markers",
         "name": "attribute_dict_Activescienceparts.json",
         "orientation": "v",
         "showlegend": true,
         "x": [
          3.1646931171417236
         ],
         "xaxis": "x",
         "y": [
          6.360981464385986
         ],
         "yaxis": "y",
         "type": "scatter"
        },
        {
         "customdata": [
          [
           "9"
          ]
         ],
         "hovertemplate": "color=9<br>x=%{x}<br>y=%{y}<br>id=%{customdata[0]}<extra></extra>",
         "legendgroup": "9",
         "marker": {
          "color": "rgb(255,255,51)",
          "symbol": "circle"
         },
         "mode": "markers",
         "name": "attribute_dict_5_Darkweb.json",
         "orientation": "v",
         "showlegend": true,
         "x": [
          5.60995626449585
         ],
         "xaxis": "x",
         "y": [
          7.31252908706665
         ],
         "yaxis": "y",
         "type": "scatter"
        },
        {
         "customdata": [
          [
           "6"
          ]
         ],
         "hovertemplate": "color=6<br>x=%{x}<br>y=%{y}<br>id=%{customdata[0]}<extra></extra>",
         "legendgroup": "6",
         "marker": {
          "color": "rgb(166,86,40)",
          "symbol": "circle"
         },
         "mode": "markers",
         "name": "attribute_dict_2_Darkweb.json",
         "orientation": "v",
         "showlegend": true,
         "x": [
          4.450284481048584
         ],
         "xaxis": "x",
         "y": [
          7.857515335083008
         ],
         "yaxis": "y",
         "type": "scatter"
        },
        {
         "customdata": [
          [
           "5"
          ]
         ],
         "hovertemplate": "color=5<br>x=%{x}<br>y=%{y}<br>id=%{customdata[0]}<extra></extra>",
         "legendgroup": "5",
         "marker": {
          "color": "rgb(247,129,191)",
          "symbol": "circle"
         },
         "mode": "markers",
         "name": "attribute_dict_3_Darkweb.json",
         "orientation": "v",
         "showlegend": true,
         "x": [
          3.9783644676208496
         ],
         "xaxis": "x",
         "y": [
          7.552486419677734
         ],
         "yaxis": "y",
         "type": "scatter"
        },
        {
         "customdata": [
          [
           "8"
          ]
         ],
         "hovertemplate": "color=8<br>x=%{x}<br>y=%{y}<br>id=%{customdata[0]}<extra></extra>",
         "legendgroup": "8",
         "marker": {
          "color": "rgb(153,153,153)",
          "symbol": "circle"
         },
         "mode": "markers",
         "name": "attribute_dict_4_Darkweb.json",
         "orientation": "v",
         "showlegend": true,
         "x": [
          5.189946174621582
         ],
         "xaxis": "x",
         "y": [
          6.635677337646484
         ],
         "yaxis": "y",
         "type": "scatter"
        },
        {
         "customdata": [
          [
           "2"
          ]
         ],
         "hovertemplate": "color=2<br>x=%{x}<br>y=%{y}<br>id=%{customdata[0]}<extra></extra>",
         "legendgroup": "2",
         "marker": {
          "color": "rgb(228,26,28)",
          "symbol": "circle"
         },
         "mode": "markers",
         "name": "attribute_dict_Organcity.json",
         "orientation": "v",
         "showlegend": true,
         "x": [
          2.8079605102539062
         ],
         "xaxis": "x",
         "y": [
          6.794754981994629
         ],
         "yaxis": "y",
         "type": "scatter"
        }
       ],
       "layout": {
        "template": {
         "data": {
          "histogram2dcontour": [
           {
            "type": "histogram2dcontour",
            "colorbar": {
             "outlinewidth": 0,
             "ticks": ""
            },
            "colorscale": [
             [
              0.0,
              "#0d0887"
             ],
             [
              0.1111111111111111,
              "#46039f"
             ],
             [
              0.2222222222222222,
              "#7201a8"
             ],
             [
              0.3333333333333333,
              "#9c179e"
             ],
             [
              0.4444444444444444,
              "#bd3786"
             ],
             [
              0.5555555555555556,
              "#d8576b"
             ],
             [
              0.6666666666666666,
              "#ed7953"
             ],
             [
              0.7777777777777778,
              "#fb9f3a"
             ],
             [
              0.8888888888888888,
              "#fdca26"
             ],
             [
              1.0,
              "#f0f921"
             ]
            ]
           }
          ],
          "choropleth": [
           {
            "type": "choropleth",
            "colorbar": {
             "outlinewidth": 0,
             "ticks": ""
            }
           }
          ],
          "histogram2d": [
           {
            "type": "histogram2d",
            "colorbar": {
             "outlinewidth": 0,
             "ticks": ""
            },
            "colorscale": [
             [
              0.0,
              "#0d0887"
             ],
             [
              0.1111111111111111,
              "#46039f"
             ],
             [
              0.2222222222222222,
              "#7201a8"
             ],
             [
              0.3333333333333333,
              "#9c179e"
             ],
             [
              0.4444444444444444,
              "#bd3786"
             ],
             [
              0.5555555555555556,
              "#d8576b"
             ],
             [
              0.6666666666666666,
              "#ed7953"
             ],
             [
              0.7777777777777778,
              "#fb9f3a"
             ],
             [
              0.8888888888888888,
              "#fdca26"
             ],
             [
              1.0,
              "#f0f921"
             ]
            ]
           }
          ],
          "heatmap": [
           {
            "type": "heatmap",
            "colorbar": {
             "outlinewidth": 0,
             "ticks": ""
            },
            "colorscale": [
             [
              0.0,
              "#0d0887"
             ],
             [
              0.1111111111111111,
              "#46039f"
             ],
             [
              0.2222222222222222,
              "#7201a8"
             ],
             [
              0.3333333333333333,
              "#9c179e"
             ],
             [
              0.4444444444444444,
              "#bd3786"
             ],
             [
              0.5555555555555556,
              "#d8576b"
             ],
             [
              0.6666666666666666,
              "#ed7953"
             ],
             [
              0.7777777777777778,
              "#fb9f3a"
             ],
             [
              0.8888888888888888,
              "#fdca26"
             ],
             [
              1.0,
              "#f0f921"
             ]
            ]
           }
          ],
          "heatmapgl": [
           {
            "type": "heatmapgl",
            "colorbar": {
             "outlinewidth": 0,
             "ticks": ""
            },
            "colorscale": [
             [
              0.0,
              "#0d0887"
             ],
             [
              0.1111111111111111,
              "#46039f"
             ],
             [
              0.2222222222222222,
              "#7201a8"
             ],
             [
              0.3333333333333333,
              "#9c179e"
             ],
             [
              0.4444444444444444,
              "#bd3786"
             ],
             [
              0.5555555555555556,
              "#d8576b"
             ],
             [
              0.6666666666666666,
              "#ed7953"
             ],
             [
              0.7777777777777778,
              "#fb9f3a"
             ],
             [
              0.8888888888888888,
              "#fdca26"
             ],
             [
              1.0,
              "#f0f921"
             ]
            ]
           }
          ],
          "contourcarpet": [
           {
            "type": "contourcarpet",
            "colorbar": {
             "outlinewidth": 0,
             "ticks": ""
            }
           }
          ],
          "contour": [
           {
            "type": "contour",
            "colorbar": {
             "outlinewidth": 0,
             "ticks": ""
            },
            "colorscale": [
             [
              0.0,
              "#0d0887"
             ],
             [
              0.1111111111111111,
              "#46039f"
             ],
             [
              0.2222222222222222,
              "#7201a8"
             ],
             [
              0.3333333333333333,
              "#9c179e"
             ],
             [
              0.4444444444444444,
              "#bd3786"
             ],
             [
              0.5555555555555556,
              "#d8576b"
             ],
             [
              0.6666666666666666,
              "#ed7953"
             ],
             [
              0.7777777777777778,
              "#fb9f3a"
             ],
             [
              0.8888888888888888,
              "#fdca26"
             ],
             [
              1.0,
              "#f0f921"
             ]
            ]
           }
          ],
          "surface": [
           {
            "type": "surface",
            "colorbar": {
             "outlinewidth": 0,
             "ticks": ""
            },
            "colorscale": [
             [
              0.0,
              "#0d0887"
             ],
             [
              0.1111111111111111,
              "#46039f"
             ],
             [
              0.2222222222222222,
              "#7201a8"
             ],
             [
              0.3333333333333333,
              "#9c179e"
             ],
             [
              0.4444444444444444,
              "#bd3786"
             ],
             [
              0.5555555555555556,
              "#d8576b"
             ],
             [
              0.6666666666666666,
              "#ed7953"
             ],
             [
              0.7777777777777778,
              "#fb9f3a"
             ],
             [
              0.8888888888888888,
              "#fdca26"
             ],
             [
              1.0,
              "#f0f921"
             ]
            ]
           }
          ],
          "mesh3d": [
           {
            "type": "mesh3d",
            "colorbar": {
             "outlinewidth": 0,
             "ticks": ""
            }
           }
          ],
          "scatter": [
           {
            "marker": {
             "line": {
              "color": "#283442"
             }
            },
            "type": "scatter"
           }
          ],
          "parcoords": [
           {
            "type": "parcoords",
            "line": {
             "colorbar": {
              "outlinewidth": 0,
              "ticks": ""
             }
            }
           }
          ],
          "scatterpolargl": [
           {
            "type": "scatterpolargl",
            "marker": {
             "colorbar": {
              "outlinewidth": 0,
              "ticks": ""
             }
            }
           }
          ],
          "bar": [
           {
            "error_x": {
             "color": "#f2f5fa"
            },
            "error_y": {
             "color": "#f2f5fa"
            },
            "marker": {
             "line": {
              "color": "rgb(17,17,17)",
              "width": 0.5
             },
             "pattern": {
              "fillmode": "overlay",
              "size": 10,
              "solidity": 0.2
             }
            },
            "type": "bar"
           }
          ],
          "scattergeo": [
           {
            "type": "scattergeo",
            "marker": {
             "colorbar": {
              "outlinewidth": 0,
              "ticks": ""
             }
            }
           }
          ],
          "scatterpolar": [
           {
            "type": "scatterpolar",
            "marker": {
             "colorbar": {
              "outlinewidth": 0,
              "ticks": ""
             }
            }
           }
          ],
          "histogram": [
           {
            "marker": {
             "pattern": {
              "fillmode": "overlay",
              "size": 10,
              "solidity": 0.2
             }
            },
            "type": "histogram"
           }
          ],
          "scattergl": [
           {
            "marker": {
             "line": {
              "color": "#283442"
             }
            },
            "type": "scattergl"
           }
          ],
          "scatter3d": [
           {
            "type": "scatter3d",
            "line": {
             "colorbar": {
              "outlinewidth": 0,
              "ticks": ""
             }
            },
            "marker": {
             "colorbar": {
              "outlinewidth": 0,
              "ticks": ""
             }
            }
           }
          ],
          "scattermapbox": [
           {
            "type": "scattermapbox",
            "marker": {
             "colorbar": {
              "outlinewidth": 0,
              "ticks": ""
             }
            }
           }
          ],
          "scatterternary": [
           {
            "type": "scatterternary",
            "marker": {
             "colorbar": {
              "outlinewidth": 0,
              "ticks": ""
             }
            }
           }
          ],
          "scattercarpet": [
           {
            "type": "scattercarpet",
            "marker": {
             "colorbar": {
              "outlinewidth": 0,
              "ticks": ""
             }
            }
           }
          ],
          "carpet": [
           {
            "aaxis": {
             "endlinecolor": "#A2B1C6",
             "gridcolor": "#506784",
             "linecolor": "#506784",
             "minorgridcolor": "#506784",
             "startlinecolor": "#A2B1C6"
            },
            "baxis": {
             "endlinecolor": "#A2B1C6",
             "gridcolor": "#506784",
             "linecolor": "#506784",
             "minorgridcolor": "#506784",
             "startlinecolor": "#A2B1C6"
            },
            "type": "carpet"
           }
          ],
          "table": [
           {
            "cells": {
             "fill": {
              "color": "#506784"
             },
             "line": {
              "color": "rgb(17,17,17)"
             }
            },
            "header": {
             "fill": {
              "color": "#2a3f5f"
             },
             "line": {
              "color": "rgb(17,17,17)"
             }
            },
            "type": "table"
           }
          ],
          "barpolar": [
           {
            "marker": {
             "line": {
              "color": "rgb(17,17,17)",
              "width": 0.5
             },
             "pattern": {
              "fillmode": "overlay",
              "size": 10,
              "solidity": 0.2
             }
            },
            "type": "barpolar"
           }
          ],
          "pie": [
           {
            "automargin": true,
            "type": "pie"
           }
          ]
         },
         "layout": {
          "autotypenumbers": "strict",
          "colorway": [
           "#636efa",
           "#EF553B",
           "#00cc96",
           "#ab63fa",
           "#FFA15A",
           "#19d3f3",
           "#FF6692",
           "#B6E880",
           "#FF97FF",
           "#FECB52"
          ],
          "font": {
           "color": "#f2f5fa"
          },
          "hovermode": "closest",
          "hoverlabel": {
           "align": "left"
          },
          "paper_bgcolor": "rgb(17,17,17)",
          "plot_bgcolor": "rgb(17,17,17)",
          "polar": {
           "bgcolor": "rgb(17,17,17)",
           "angularaxis": {
            "gridcolor": "#506784",
            "linecolor": "#506784",
            "ticks": ""
           },
           "radialaxis": {
            "gridcolor": "#506784",
            "linecolor": "#506784",
            "ticks": ""
           }
          },
          "ternary": {
           "bgcolor": "rgb(17,17,17)",
           "aaxis": {
            "gridcolor": "#506784",
            "linecolor": "#506784",
            "ticks": ""
           },
           "baxis": {
            "gridcolor": "#506784",
            "linecolor": "#506784",
            "ticks": ""
           },
           "caxis": {
            "gridcolor": "#506784",
            "linecolor": "#506784",
            "ticks": ""
           }
          },
          "coloraxis": {
           "colorbar": {
            "outlinewidth": 0,
            "ticks": ""
           }
          },
          "colorscale": {
           "sequential": [
            [
             0.0,
             "#0d0887"
            ],
            [
             0.1111111111111111,
             "#46039f"
            ],
            [
             0.2222222222222222,
             "#7201a8"
            ],
            [
             0.3333333333333333,
             "#9c179e"
            ],
            [
             0.4444444444444444,
             "#bd3786"
            ],
            [
             0.5555555555555556,
             "#d8576b"
            ],
            [
             0.6666666666666666,
             "#ed7953"
            ],
            [
             0.7777777777777778,
             "#fb9f3a"
            ],
            [
             0.8888888888888888,
             "#fdca26"
            ],
            [
             1.0,
             "#f0f921"
            ]
           ],
           "sequentialminus": [
            [
             0.0,
             "#0d0887"
            ],
            [
             0.1111111111111111,
             "#46039f"
            ],
            [
             0.2222222222222222,
             "#7201a8"
            ],
            [
             0.3333333333333333,
             "#9c179e"
            ],
            [
             0.4444444444444444,
             "#bd3786"
            ],
            [
             0.5555555555555556,
             "#d8576b"
            ],
            [
             0.6666666666666666,
             "#ed7953"
            ],
            [
             0.7777777777777778,
             "#fb9f3a"
            ],
            [
             0.8888888888888888,
             "#fdca26"
            ],
            [
             1.0,
             "#f0f921"
            ]
           ],
           "diverging": [
            [
             0,
             "#8e0152"
            ],
            [
             0.1,
             "#c51b7d"
            ],
            [
             0.2,
             "#de77ae"
            ],
            [
             0.3,
             "#f1b6da"
            ],
            [
             0.4,
             "#fde0ef"
            ],
            [
             0.5,
             "#f7f7f7"
            ],
            [
             0.6,
             "#e6f5d0"
            ],
            [
             0.7,
             "#b8e186"
            ],
            [
             0.8,
             "#7fbc41"
            ],
            [
             0.9,
             "#4d9221"
            ],
            [
             1,
             "#276419"
            ]
           ]
          },
          "xaxis": {
           "gridcolor": "#283442",
           "linecolor": "#506784",
           "ticks": "",
           "title": {
            "standoff": 15
           },
           "zerolinecolor": "#283442",
           "automargin": true,
           "zerolinewidth": 2
          },
          "yaxis": {
           "gridcolor": "#283442",
           "linecolor": "#506784",
           "ticks": "",
           "title": {
            "standoff": 15
           },
           "zerolinecolor": "#283442",
           "automargin": true,
           "zerolinewidth": 2
          },
          "scene": {
           "xaxis": {
            "backgroundcolor": "rgb(17,17,17)",
            "gridcolor": "#506784",
            "linecolor": "#506784",
            "showbackground": true,
            "ticks": "",
            "zerolinecolor": "#C8D4E3",
            "gridwidth": 2
           },
           "yaxis": {
            "backgroundcolor": "rgb(17,17,17)",
            "gridcolor": "#506784",
            "linecolor": "#506784",
            "showbackground": true,
            "ticks": "",
            "zerolinecolor": "#C8D4E3",
            "gridwidth": 2
           },
           "zaxis": {
            "backgroundcolor": "rgb(17,17,17)",
            "gridcolor": "#506784",
            "linecolor": "#506784",
            "showbackground": true,
            "ticks": "",
            "zerolinecolor": "#C8D4E3",
            "gridwidth": 2
           }
          },
          "shapedefaults": {
           "line": {
            "color": "#f2f5fa"
           }
          },
          "annotationdefaults": {
           "arrowcolor": "#f2f5fa",
           "arrowhead": 0,
           "arrowwidth": 1
          },
          "geo": {
           "bgcolor": "rgb(17,17,17)",
           "landcolor": "rgb(17,17,17)",
           "subunitcolor": "#506784",
           "showland": true,
           "showlakes": true,
           "lakecolor": "rgb(17,17,17)"
          },
          "title": {
           "x": 0.05
          },
          "updatemenudefaults": {
           "bgcolor": "#506784",
           "borderwidth": 0
          },
          "sliderdefaults": {
           "bgcolor": "#C8D4E3",
           "borderwidth": 1,
           "bordercolor": "rgb(17,17,17)",
           "tickwidth": 0
          },
          "mapbox": {
           "style": "dark"
          }
         }
        },
        "xaxis": {
         "anchor": "y",
         "domain": [
          0.0,
          1.0
         ],
         "title": {
          "text": "X"
         },
         "color": "black"
        },
        "yaxis": {
         "anchor": "x",
         "domain": [
          0.0,
          1.0
         ],
         "title": {
          "text": "Y"
         },
         "color": "black"
        },
        "legend": {
         "title": {
          "text": "color"
         },
         "tracegroupgap": 0
        },
        "title": {
         "text": "<b>Html class structure similarity between organ trafficking suspected websites</b>"
        },
        "font": {
         "color": "black"
        },
        "plot_bgcolor": "white",
        "paper_bgcolor": "white"
       },
       "config": {
        "plotlyServerURL": "https://plot.ly"
       }
      },
      "text/html": "<div>                            <div id=\"598897e5-388f-4f17-9e75-f90180d524b7\" class=\"plotly-graph-div\" style=\"height:525px; width:100%;\"></div>            <script type=\"text/javascript\">                require([\"plotly\"], function(Plotly) {                    window.PLOTLYENV=window.PLOTLYENV || {};                                    if (document.getElementById(\"598897e5-388f-4f17-9e75-f90180d524b7\")) {                    Plotly.newPlot(                        \"598897e5-388f-4f17-9e75-f90180d524b7\",                        [{\"customdata\":[[\"4\"]],\"hovertemplate\":\"color=4\\u003cbr\\u003ex=%{x}\\u003cbr\\u003ey=%{y}\\u003cbr\\u003eid=%{customdata[0]}\\u003cextra\\u003e\\u003c\\u002fextra\\u003e\",\"legendgroup\":\"4\",\"marker\":{\"color\":\"rgb(228,26,28)\",\"symbol\":\"circle\"},\"mode\":\"markers\",\"name\":\"attribute_dict_6_Darkweb.json\",\"orientation\":\"v\",\"showlegend\":true,\"x\":[3.7502870559692383],\"xaxis\":\"x\",\"y\":[6.772539138793945],\"yaxis\":\"y\",\"type\":\"scatter\"},{\"customdata\":[[\"7\"]],\"hovertemplate\":\"color=7\\u003cbr\\u003ex=%{x}\\u003cbr\\u003ey=%{y}\\u003cbr\\u003eid=%{customdata[0]}\\u003cextra\\u003e\\u003c\\u002fextra\\u003e\",\"legendgroup\":\"7\",\"marker\":{\"color\":\"rgb(55,126,184)\",\"symbol\":\"circle\"},\"mode\":\"markers\",\"name\":\"attribute_dict_1_Darkweb.json\",\"orientation\":\"v\",\"showlegend\":true,\"x\":[4.746616840362549],\"xaxis\":\"x\",\"y\":[7.116955757141113],\"yaxis\":\"y\",\"type\":\"scatter\"},{\"customdata\":[[\"3\"]],\"hovertemplate\":\"color=3\\u003cbr\\u003ex=%{x}\\u003cbr\\u003ey=%{y}\\u003cbr\\u003eid=%{customdata[0]}\\u003cextra\\u003e\\u003c\\u002fextra\\u003e\",\"legendgroup\":\"3\",\"marker\":{\"color\":\"rgb(77,175,74)\",\"symbol\":\"circle\"},\"mode\":\"markers\",\"name\":\"attribute_dict_Organ_city.json\",\"orientation\":\"v\",\"showlegend\":true,\"x\":[3.1480419635772705],\"xaxis\":\"x\",\"y\":[7.313090801239014],\"yaxis\":\"y\",\"type\":\"scatter\"},{\"customdata\":[[\"10\"]],\"hovertemplate\":\"color=10\\u003cbr\\u003ex=%{x}\\u003cbr\\u003ey=%{y}\\u003cbr\\u003eid=%{customdata[0]}\\u003cextra\\u003e\\u003c\\u002fextra\\u003e\",\"legendgroup\":\"10\",\"marker\":{\"color\":\"rgb(152,78,163)\",\"symbol\":\"circle\"},\"mode\":\"markers\",\"name\":\"attribute_dict_groodcity.json\",\"orientation\":\"v\",\"showlegend\":true,\"x\":[5.333640098571777],\"xaxis\":\"x\",\"y\":[7.872265338897705],\"yaxis\":\"y\",\"type\":\"scatter\"},{\"customdata\":[[\"1\"]],\"hovertemplate\":\"color=1\\u003cbr\\u003ex=%{x}\\u003cbr\\u003ey=%{y}\\u003cbr\\u003eid=%{customdata[0]}\\u003cextra\\u003e\\u003c\\u002fextra\\u003e\",\"legendgroup\":\"1\",\"marker\":{\"color\":\"rgb(255,127,0)\",\"symbol\":\"circle\"},\"mode\":\"markers\",\"name\":\"attribute_dict_Activescienceparts.json\",\"orientation\":\"v\",\"showlegend\":true,\"x\":[3.1646931171417236],\"xaxis\":\"x\",\"y\":[6.360981464385986],\"yaxis\":\"y\",\"type\":\"scatter\"},{\"customdata\":[[\"9\"]],\"hovertemplate\":\"color=9\\u003cbr\\u003ex=%{x}\\u003cbr\\u003ey=%{y}\\u003cbr\\u003eid=%{customdata[0]}\\u003cextra\\u003e\\u003c\\u002fextra\\u003e\",\"legendgroup\":\"9\",\"marker\":{\"color\":\"rgb(255,255,51)\",\"symbol\":\"circle\"},\"mode\":\"markers\",\"name\":\"attribute_dict_5_Darkweb.json\",\"orientation\":\"v\",\"showlegend\":true,\"x\":[5.60995626449585],\"xaxis\":\"x\",\"y\":[7.31252908706665],\"yaxis\":\"y\",\"type\":\"scatter\"},{\"customdata\":[[\"6\"]],\"hovertemplate\":\"color=6\\u003cbr\\u003ex=%{x}\\u003cbr\\u003ey=%{y}\\u003cbr\\u003eid=%{customdata[0]}\\u003cextra\\u003e\\u003c\\u002fextra\\u003e\",\"legendgroup\":\"6\",\"marker\":{\"color\":\"rgb(166,86,40)\",\"symbol\":\"circle\"},\"mode\":\"markers\",\"name\":\"attribute_dict_2_Darkweb.json\",\"orientation\":\"v\",\"showlegend\":true,\"x\":[4.450284481048584],\"xaxis\":\"x\",\"y\":[7.857515335083008],\"yaxis\":\"y\",\"type\":\"scatter\"},{\"customdata\":[[\"5\"]],\"hovertemplate\":\"color=5\\u003cbr\\u003ex=%{x}\\u003cbr\\u003ey=%{y}\\u003cbr\\u003eid=%{customdata[0]}\\u003cextra\\u003e\\u003c\\u002fextra\\u003e\",\"legendgroup\":\"5\",\"marker\":{\"color\":\"rgb(247,129,191)\",\"symbol\":\"circle\"},\"mode\":\"markers\",\"name\":\"attribute_dict_3_Darkweb.json\",\"orientation\":\"v\",\"showlegend\":true,\"x\":[3.9783644676208496],\"xaxis\":\"x\",\"y\":[7.552486419677734],\"yaxis\":\"y\",\"type\":\"scatter\"},{\"customdata\":[[\"8\"]],\"hovertemplate\":\"color=8\\u003cbr\\u003ex=%{x}\\u003cbr\\u003ey=%{y}\\u003cbr\\u003eid=%{customdata[0]}\\u003cextra\\u003e\\u003c\\u002fextra\\u003e\",\"legendgroup\":\"8\",\"marker\":{\"color\":\"rgb(153,153,153)\",\"symbol\":\"circle\"},\"mode\":\"markers\",\"name\":\"attribute_dict_4_Darkweb.json\",\"orientation\":\"v\",\"showlegend\":true,\"x\":[5.189946174621582],\"xaxis\":\"x\",\"y\":[6.635677337646484],\"yaxis\":\"y\",\"type\":\"scatter\"},{\"customdata\":[[\"2\"]],\"hovertemplate\":\"color=2\\u003cbr\\u003ex=%{x}\\u003cbr\\u003ey=%{y}\\u003cbr\\u003eid=%{customdata[0]}\\u003cextra\\u003e\\u003c\\u002fextra\\u003e\",\"legendgroup\":\"2\",\"marker\":{\"color\":\"rgb(228,26,28)\",\"symbol\":\"circle\"},\"mode\":\"markers\",\"name\":\"attribute_dict_Organcity.json\",\"orientation\":\"v\",\"showlegend\":true,\"x\":[2.8079605102539062],\"xaxis\":\"x\",\"y\":[6.794754981994629],\"yaxis\":\"y\",\"type\":\"scatter\"}],                        {\"template\":{\"data\":{\"histogram2dcontour\":[{\"type\":\"histogram2dcontour\",\"colorbar\":{\"outlinewidth\":0,\"ticks\":\"\"},\"colorscale\":[[0.0,\"#0d0887\"],[0.1111111111111111,\"#46039f\"],[0.2222222222222222,\"#7201a8\"],[0.3333333333333333,\"#9c179e\"],[0.4444444444444444,\"#bd3786\"],[0.5555555555555556,\"#d8576b\"],[0.6666666666666666,\"#ed7953\"],[0.7777777777777778,\"#fb9f3a\"],[0.8888888888888888,\"#fdca26\"],[1.0,\"#f0f921\"]]}],\"choropleth\":[{\"type\":\"choropleth\",\"colorbar\":{\"outlinewidth\":0,\"ticks\":\"\"}}],\"histogram2d\":[{\"type\":\"histogram2d\",\"colorbar\":{\"outlinewidth\":0,\"ticks\":\"\"},\"colorscale\":[[0.0,\"#0d0887\"],[0.1111111111111111,\"#46039f\"],[0.2222222222222222,\"#7201a8\"],[0.3333333333333333,\"#9c179e\"],[0.4444444444444444,\"#bd3786\"],[0.5555555555555556,\"#d8576b\"],[0.6666666666666666,\"#ed7953\"],[0.7777777777777778,\"#fb9f3a\"],[0.8888888888888888,\"#fdca26\"],[1.0,\"#f0f921\"]]}],\"heatmap\":[{\"type\":\"heatmap\",\"colorbar\":{\"outlinewidth\":0,\"ticks\":\"\"},\"colorscale\":[[0.0,\"#0d0887\"],[0.1111111111111111,\"#46039f\"],[0.2222222222222222,\"#7201a8\"],[0.3333333333333333,\"#9c179e\"],[0.4444444444444444,\"#bd3786\"],[0.5555555555555556,\"#d8576b\"],[0.6666666666666666,\"#ed7953\"],[0.7777777777777778,\"#fb9f3a\"],[0.8888888888888888,\"#fdca26\"],[1.0,\"#f0f921\"]]}],\"heatmapgl\":[{\"type\":\"heatmapgl\",\"colorbar\":{\"outlinewidth\":0,\"ticks\":\"\"},\"colorscale\":[[0.0,\"#0d0887\"],[0.1111111111111111,\"#46039f\"],[0.2222222222222222,\"#7201a8\"],[0.3333333333333333,\"#9c179e\"],[0.4444444444444444,\"#bd3786\"],[0.5555555555555556,\"#d8576b\"],[0.6666666666666666,\"#ed7953\"],[0.7777777777777778,\"#fb9f3a\"],[0.8888888888888888,\"#fdca26\"],[1.0,\"#f0f921\"]]}],\"contourcarpet\":[{\"type\":\"contourcarpet\",\"colorbar\":{\"outlinewidth\":0,\"ticks\":\"\"}}],\"contour\":[{\"type\":\"contour\",\"colorbar\":{\"outlinewidth\":0,\"ticks\":\"\"},\"colorscale\":[[0.0,\"#0d0887\"],[0.1111111111111111,\"#46039f\"],[0.2222222222222222,\"#7201a8\"],[0.3333333333333333,\"#9c179e\"],[0.4444444444444444,\"#bd3786\"],[0.5555555555555556,\"#d8576b\"],[0.6666666666666666,\"#ed7953\"],[0.7777777777777778,\"#fb9f3a\"],[0.8888888888888888,\"#fdca26\"],[1.0,\"#f0f921\"]]}],\"surface\":[{\"type\":\"surface\",\"colorbar\":{\"outlinewidth\":0,\"ticks\":\"\"},\"colorscale\":[[0.0,\"#0d0887\"],[0.1111111111111111,\"#46039f\"],[0.2222222222222222,\"#7201a8\"],[0.3333333333333333,\"#9c179e\"],[0.4444444444444444,\"#bd3786\"],[0.5555555555555556,\"#d8576b\"],[0.6666666666666666,\"#ed7953\"],[0.7777777777777778,\"#fb9f3a\"],[0.8888888888888888,\"#fdca26\"],[1.0,\"#f0f921\"]]}],\"mesh3d\":[{\"type\":\"mesh3d\",\"colorbar\":{\"outlinewidth\":0,\"ticks\":\"\"}}],\"scatter\":[{\"marker\":{\"line\":{\"color\":\"#283442\"}},\"type\":\"scatter\"}],\"parcoords\":[{\"type\":\"parcoords\",\"line\":{\"colorbar\":{\"outlinewidth\":0,\"ticks\":\"\"}}}],\"scatterpolargl\":[{\"type\":\"scatterpolargl\",\"marker\":{\"colorbar\":{\"outlinewidth\":0,\"ticks\":\"\"}}}],\"bar\":[{\"error_x\":{\"color\":\"#f2f5fa\"},\"error_y\":{\"color\":\"#f2f5fa\"},\"marker\":{\"line\":{\"color\":\"rgb(17,17,17)\",\"width\":0.5},\"pattern\":{\"fillmode\":\"overlay\",\"size\":10,\"solidity\":0.2}},\"type\":\"bar\"}],\"scattergeo\":[{\"type\":\"scattergeo\",\"marker\":{\"colorbar\":{\"outlinewidth\":0,\"ticks\":\"\"}}}],\"scatterpolar\":[{\"type\":\"scatterpolar\",\"marker\":{\"colorbar\":{\"outlinewidth\":0,\"ticks\":\"\"}}}],\"histogram\":[{\"marker\":{\"pattern\":{\"fillmode\":\"overlay\",\"size\":10,\"solidity\":0.2}},\"type\":\"histogram\"}],\"scattergl\":[{\"marker\":{\"line\":{\"color\":\"#283442\"}},\"type\":\"scattergl\"}],\"scatter3d\":[{\"type\":\"scatter3d\",\"line\":{\"colorbar\":{\"outlinewidth\":0,\"ticks\":\"\"}},\"marker\":{\"colorbar\":{\"outlinewidth\":0,\"ticks\":\"\"}}}],\"scattermapbox\":[{\"type\":\"scattermapbox\",\"marker\":{\"colorbar\":{\"outlinewidth\":0,\"ticks\":\"\"}}}],\"scatterternary\":[{\"type\":\"scatterternary\",\"marker\":{\"colorbar\":{\"outlinewidth\":0,\"ticks\":\"\"}}}],\"scattercarpet\":[{\"type\":\"scattercarpet\",\"marker\":{\"colorbar\":{\"outlinewidth\":0,\"ticks\":\"\"}}}],\"carpet\":[{\"aaxis\":{\"endlinecolor\":\"#A2B1C6\",\"gridcolor\":\"#506784\",\"linecolor\":\"#506784\",\"minorgridcolor\":\"#506784\",\"startlinecolor\":\"#A2B1C6\"},\"baxis\":{\"endlinecolor\":\"#A2B1C6\",\"gridcolor\":\"#506784\",\"linecolor\":\"#506784\",\"minorgridcolor\":\"#506784\",\"startlinecolor\":\"#A2B1C6\"},\"type\":\"carpet\"}],\"table\":[{\"cells\":{\"fill\":{\"color\":\"#506784\"},\"line\":{\"color\":\"rgb(17,17,17)\"}},\"header\":{\"fill\":{\"color\":\"#2a3f5f\"},\"line\":{\"color\":\"rgb(17,17,17)\"}},\"type\":\"table\"}],\"barpolar\":[{\"marker\":{\"line\":{\"color\":\"rgb(17,17,17)\",\"width\":0.5},\"pattern\":{\"fillmode\":\"overlay\",\"size\":10,\"solidity\":0.2}},\"type\":\"barpolar\"}],\"pie\":[{\"automargin\":true,\"type\":\"pie\"}]},\"layout\":{\"autotypenumbers\":\"strict\",\"colorway\":[\"#636efa\",\"#EF553B\",\"#00cc96\",\"#ab63fa\",\"#FFA15A\",\"#19d3f3\",\"#FF6692\",\"#B6E880\",\"#FF97FF\",\"#FECB52\"],\"font\":{\"color\":\"#f2f5fa\"},\"hovermode\":\"closest\",\"hoverlabel\":{\"align\":\"left\"},\"paper_bgcolor\":\"rgb(17,17,17)\",\"plot_bgcolor\":\"rgb(17,17,17)\",\"polar\":{\"bgcolor\":\"rgb(17,17,17)\",\"angularaxis\":{\"gridcolor\":\"#506784\",\"linecolor\":\"#506784\",\"ticks\":\"\"},\"radialaxis\":{\"gridcolor\":\"#506784\",\"linecolor\":\"#506784\",\"ticks\":\"\"}},\"ternary\":{\"bgcolor\":\"rgb(17,17,17)\",\"aaxis\":{\"gridcolor\":\"#506784\",\"linecolor\":\"#506784\",\"ticks\":\"\"},\"baxis\":{\"gridcolor\":\"#506784\",\"linecolor\":\"#506784\",\"ticks\":\"\"},\"caxis\":{\"gridcolor\":\"#506784\",\"linecolor\":\"#506784\",\"ticks\":\"\"}},\"coloraxis\":{\"colorbar\":{\"outlinewidth\":0,\"ticks\":\"\"}},\"colorscale\":{\"sequential\":[[0.0,\"#0d0887\"],[0.1111111111111111,\"#46039f\"],[0.2222222222222222,\"#7201a8\"],[0.3333333333333333,\"#9c179e\"],[0.4444444444444444,\"#bd3786\"],[0.5555555555555556,\"#d8576b\"],[0.6666666666666666,\"#ed7953\"],[0.7777777777777778,\"#fb9f3a\"],[0.8888888888888888,\"#fdca26\"],[1.0,\"#f0f921\"]],\"sequentialminus\":[[0.0,\"#0d0887\"],[0.1111111111111111,\"#46039f\"],[0.2222222222222222,\"#7201a8\"],[0.3333333333333333,\"#9c179e\"],[0.4444444444444444,\"#bd3786\"],[0.5555555555555556,\"#d8576b\"],[0.6666666666666666,\"#ed7953\"],[0.7777777777777778,\"#fb9f3a\"],[0.8888888888888888,\"#fdca26\"],[1.0,\"#f0f921\"]],\"diverging\":[[0,\"#8e0152\"],[0.1,\"#c51b7d\"],[0.2,\"#de77ae\"],[0.3,\"#f1b6da\"],[0.4,\"#fde0ef\"],[0.5,\"#f7f7f7\"],[0.6,\"#e6f5d0\"],[0.7,\"#b8e186\"],[0.8,\"#7fbc41\"],[0.9,\"#4d9221\"],[1,\"#276419\"]]},\"xaxis\":{\"gridcolor\":\"#283442\",\"linecolor\":\"#506784\",\"ticks\":\"\",\"title\":{\"standoff\":15},\"zerolinecolor\":\"#283442\",\"automargin\":true,\"zerolinewidth\":2},\"yaxis\":{\"gridcolor\":\"#283442\",\"linecolor\":\"#506784\",\"ticks\":\"\",\"title\":{\"standoff\":15},\"zerolinecolor\":\"#283442\",\"automargin\":true,\"zerolinewidth\":2},\"scene\":{\"xaxis\":{\"backgroundcolor\":\"rgb(17,17,17)\",\"gridcolor\":\"#506784\",\"linecolor\":\"#506784\",\"showbackground\":true,\"ticks\":\"\",\"zerolinecolor\":\"#C8D4E3\",\"gridwidth\":2},\"yaxis\":{\"backgroundcolor\":\"rgb(17,17,17)\",\"gridcolor\":\"#506784\",\"linecolor\":\"#506784\",\"showbackground\":true,\"ticks\":\"\",\"zerolinecolor\":\"#C8D4E3\",\"gridwidth\":2},\"zaxis\":{\"backgroundcolor\":\"rgb(17,17,17)\",\"gridcolor\":\"#506784\",\"linecolor\":\"#506784\",\"showbackground\":true,\"ticks\":\"\",\"zerolinecolor\":\"#C8D4E3\",\"gridwidth\":2}},\"shapedefaults\":{\"line\":{\"color\":\"#f2f5fa\"}},\"annotationdefaults\":{\"arrowcolor\":\"#f2f5fa\",\"arrowhead\":0,\"arrowwidth\":1},\"geo\":{\"bgcolor\":\"rgb(17,17,17)\",\"landcolor\":\"rgb(17,17,17)\",\"subunitcolor\":\"#506784\",\"showland\":true,\"showlakes\":true,\"lakecolor\":\"rgb(17,17,17)\"},\"title\":{\"x\":0.05},\"updatemenudefaults\":{\"bgcolor\":\"#506784\",\"borderwidth\":0},\"sliderdefaults\":{\"bgcolor\":\"#C8D4E3\",\"borderwidth\":1,\"bordercolor\":\"rgb(17,17,17)\",\"tickwidth\":0},\"mapbox\":{\"style\":\"dark\"}}},\"xaxis\":{\"anchor\":\"y\",\"domain\":[0.0,1.0],\"title\":{\"text\":\"X\"},\"color\":\"black\"},\"yaxis\":{\"anchor\":\"x\",\"domain\":[0.0,1.0],\"title\":{\"text\":\"Y\"},\"color\":\"black\"},\"legend\":{\"title\":{\"text\":\"color\"},\"tracegroupgap\":0},\"title\":{\"text\":\"\\u003cb\\u003eHtml class structure similarity between organ trafficking suspected websites\\u003c\\u002fb\\u003e\"},\"font\":{\"color\":\"black\"},\"plot_bgcolor\":\"white\",\"paper_bgcolor\":\"white\"},                        {\"responsive\": true}                    ).then(function(){\n                            \nvar gd = document.getElementById('598897e5-388f-4f17-9e75-f90180d524b7');\nvar x = new MutationObserver(function (mutations, observer) {{\n        var display = window.getComputedStyle(gd).display;\n        if (!display || display === 'none') {{\n            console.log([gd, 'removed!']);\n            Plotly.purge(gd);\n            observer.disconnect();\n        }}\n}});\n\n// Listen for the removal of the full notebook cells\nvar notebookContainer = gd.closest('#notebook-container');\nif (notebookContainer) {{\n    x.observe(notebookContainer, {childList: true});\n}}\n\n// Listen for the clearing of the current output cell\nvar outputEl = gd.closest('.output');\nif (outputEl) {{\n    x.observe(outputEl, {childList: true});\n}}\n\n                        })                };                });            </script>        </div>"
     },
     "metadata": {},
     "output_type": "display_data"
    }
   ],
   "source": [
    "\n",
    "# Assume 'filename' is the column containing filenames in the results dataframe\n",
    "chosen_ids = results['id'].unique()\n",
    "\n",
    "\n",
    "# Create a new column for color based on the unique IDs\n",
    "results['color'] = results['id']\n",
    "\n",
    "# Define color map for unique colors\n",
    "color_map = {id: px.colors.qualitative.Set1[i % len(px.colors.qualitative.Set1)] for i, id in enumerate(chosen_ids)}\n",
    "\n",
    "\n",
    "# Plot the scatter plot using Plotly Express with unique colors\n",
    "fig = px.scatter(results, x='x', y='y', color='color', color_discrete_map=color_map, \n",
    "                 title='<b>Html class structure similarity between organ trafficking suspected websites</b>', hover_data=['id'])\n",
    "fig.update_layout(\n",
    "    plot_bgcolor='white',\n",
    "    paper_bgcolor='white',\n",
    "    font=dict(color='black'),  # Set text color to black\n",
    "    xaxis=dict(title_text='X', color='black'),  # Set X axis label and color\n",
    "    yaxis=dict(title_text='Y', color='black'),  # Set Y axis label and color\n",
    ")\n",
    "filename_list = [os.path.basename(file_path) for file_path in df['source_file']]\n",
    "#Update legend labels with filenames\n",
    "legend_labels = {id: filename for id, filename in zip(results['id'], filename_list)}\n",
    "fig.for_each_trace(lambda t: t.update(name=legend_labels[t.name]))\n",
    "\n",
    "# Show the plot\n",
    "fig.show()\n",
    "\n",
    "# Save the plot to an HTML file\n",
    "fig.write_html('../results/graphs/html_class/scatter_plot6.html')\n"
   ],
   "metadata": {
    "collapsed": false,
    "ExecuteTime": {
     "end_time": "2023-12-09T15:12:18.642068Z",
     "start_time": "2023-12-09T15:12:18.549686Z"
    }
   },
   "id": "290056e1d28ae36e"
  }
 ],
 "metadata": {
  "kernelspec": {
   "display_name": "Python 3",
   "language": "python",
   "name": "python3"
  },
  "language_info": {
   "codemirror_mode": {
    "name": "ipython",
    "version": 2
   },
   "file_extension": ".py",
   "mimetype": "text/x-python",
   "name": "python",
   "nbconvert_exporter": "python",
   "pygments_lexer": "ipython2",
   "version": "2.7.6"
  }
 },
 "nbformat": 4,
 "nbformat_minor": 5
}
